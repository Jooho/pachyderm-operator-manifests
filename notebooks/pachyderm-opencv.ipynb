{
 "cells": [
  {
   "cell_type": "code",
   "execution_count": null,
   "metadata": {},
   "outputs": [],
   "source": [
    "# Download pachctl binary file\n",
    "! curl -o /tmp/pachctl.tar.gz -L https://github.com/pachyderm/pachyderm/releases/download/v2.0.5/pachctl_2.0.5_linux_amd64.tar.gz && tar -xvf /tmp/pachctl.tar.gz  -C /tmp && cp /tmp/pachctl_2.0.5_linux_amd64/pachctl  /opt/app-root/bin/"
   ]
  },
  {
   "cell_type": "code",
   "execution_count": null,
   "metadata": {},
   "outputs": [],
   "source": [
    "# Create a new context with pachd_address < pachd.%Project_Name%.svc.cluster.local:%Port >\n",
    "!echo '{\"pachd_address\":\"pachd.pachyderm.svc.cluster.local:30650\"}' | pachctl config set context pachyderm\n",
    "\n",
    "# Switch the pachd context to a new context\n",
    "!pachctl config set active-context pachyderm\n",
    "\n",
    "# Verify active context is the new context\n",
    "!pachctl config get active-context\n",
    "\n",
    "# Check pachctl/pachd version\n",
    "!pachctl version\n"
   ]
  },
  {
   "cell_type": "code",
   "execution_count": null,
   "metadata": {},
   "outputs": [],
   "source": [
    "# Create repo `images`\n",
    "!pachctl create repo images\n",
    "\n",
    "# Check the images repo\n",
    "!pachctl list repo"
   ]
  },
  {
   "cell_type": "code",
   "execution_count": null,
   "metadata": {},
   "outputs": [],
   "source": [
    "# Put a file to the repo `images`\n",
    "!pachctl put file images@master:liberty.png -f http://imgur.com/46Q8nDz.png\n",
    "\n",
    "# Check the repo used storage\n",
    "!pachctl list repo\n",
    "\n",
    "# List up commits on the repo `images`\n",
    "!pachctl list commit images"
   ]
  },
  {
   "cell_type": "code",
   "execution_count": null,
   "metadata": {},
   "outputs": [],
   "source": [
    "# See the original image\n",
    "!pachctl get file images@master:liberty.png -o original_liberty.png\n",
    "from IPython.display import Image, display\n",
    "Image(filename='original_liberty.png') \n",
    "    "
   ]
  },
  {
   "cell_type": "code",
   "execution_count": null,
   "metadata": {},
   "outputs": [],
   "source": [
    "# Create a pipeline\n",
    "!pachctl create pipeline -f https://raw.githubusercontent.com/pachyderm/pachyderm/master/examples/opencv/edges.json\n",
    "\n",
    "# Check pipeline created jobs\n",
    "!pachctl list job\n",
    "!sleep 10"
   ]
  },
  {
   "cell_type": "code",
   "execution_count": null,
   "metadata": {},
   "outputs": [],
   "source": [
    "# Check if a new repo `edges` that has the changed image after pipeline creatd\n",
    "!pachctl list repo\n",
    "\n",
    "#See the changed image\n",
    "!pachctl get file edges@master:liberty.png -o edge_liberty.png\n",
    "\n",
    "Image(filename='edge_liberty.png') \n",
    "    \n"
   ]
  },
  {
   "cell_type": "code",
   "execution_count": null,
   "metadata": {},
   "outputs": [],
   "source": [
    "# Try more images. Put 2 images into repo `images\n",
    "!pachctl put file images@master:AT-AT.png -f http://imgur.com/8MN9Kg0.png\n",
    "!pachctl put file images@master:kitten.png -f http://imgur.com/g2QnNqa.png\n",
    "\n",
    "# Check new jobs deployed\n",
    "!pachctl list job"
   ]
  },
  {
   "cell_type": "code",
   "execution_count": null,
   "metadata": {},
   "outputs": [],
   "source": [
    "# See original images\n",
    "!pachctl get file images@master:AT-AT.png -o original_at_at.png\n",
    "!pachctl get file images@master:kitten.png  -o original_kitten.png\n",
    "\n",
    "listOfImageNames = ['original_at_at.png',\n",
    "                    'original_kitten.png']\n",
    "\n",
    "for imageName in listOfImageNames:\n",
    "    display(Image(filename=imageName))"
   ]
  },
  {
   "cell_type": "code",
   "execution_count": null,
   "metadata": {},
   "outputs": [],
   "source": [
    "# See edge images\n",
    "!pachctl get file edges@master:AT-AT.png -o edge_at_at.png\n",
    "!pachctl get file edges@master:kitten.png  -o edge_kitten.png\n",
    "\n",
    "listOfImageNames = ['edge_at_at.png',\n",
    "                    'edge_kitten.png']\n",
    "\n",
    "for imageName in listOfImageNames:\n",
    "    display(Image(filename=imageName))\n"
   ]
  }
 ],
 "metadata": {
  "kernelspec": {
   "display_name": "Python 3",
   "language": "python",
   "name": "python3"
  },
  "language_info": {
   "codemirror_mode": {
    "name": "ipython",
    "version": 3
   },
   "file_extension": ".py",
   "mimetype": "text/x-python",
   "name": "python",
   "nbconvert_exporter": "python",
   "pygments_lexer": "ipython3",
   "version": "3.9.5"
  }
 },
 "nbformat": 4,
 "nbformat_minor": 5
}
