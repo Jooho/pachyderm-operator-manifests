{
 "cells": [
  {
   "cell_type": "markdown",
   "id": "d9eda22d",
   "metadata": {},
   "source": [
    "# OpenCV Edge Detection \n",
    "Note that this OpenCV jupyter notebook is created based on [Pachyderm tutorial](https://docs.pachyderm.com/latest/getting_started/beginner_tutorial/). \n",
    "I assume that you have jupyterhub and pachyderm on your cluster(OpenShift/Kubernetes). If you don't have try to use Open Data Hub for test environment. These are blogs that explain how to deploy Pachyderm with Open Data Hub and get this Jupyter notebook from ODH Jupyterhub.\n",
    "- [OpenCV Edge Detection with OpenDatahub + Pachyderm](https://developers.redhat.com/articles/2022/03/25/opencv-edge-detection-opendatahub-pachyderm)\n",
    "- [The easiest way to install Pachyderm with OpenDataHub](https://developers.redhat.com/articles/2022/01/04/easiest-way-install-pachyderm-opendatahub)"
   ]
  },
  {
   "cell_type": "markdown",
   "id": "1f511038",
   "metadata": {},
   "source": [
    "## Download pachctl cli\n",
    "Pachyderm always recommend that you should use the same version of pachctl cli and Pachyderm. You can check the Pachyderm version from CR.\n",
    "![Pachyderm version](./edited_pachyderm_version.png)\n",
    "Then, please update the following version `2.1.6` in the following command variable to the version in CR."
   ]
  },
  {
   "cell_type": "code",
   "execution_count": null,
   "id": "5c1aaf13",
   "metadata": {},
   "outputs": [],
   "source": [
    "# Download pachctl binary file\n",
    "PACH_VERSION='2.1.6'",
    "! curl -o /tmp/pachctl.tar.gz -L https://github.com/pachyderm/pachyderm/releases/download/v{PACH_VERSION}/pachctl_{PACH_VERSION}_linux_amd64.tar.gz && tar -xvf /tmp/pachctl.tar.gz  -C /tmp && cp /tmp/pachctl_{PACH_VERSION}_linux_amd64/pachctl  /opt/app-root/bin/"
   ]
  },
  {
   "cell_type": "markdown",
   "id": "140f6fd4",
   "metadata": {},
   "source": [
    "## Create a Pachyderm Context to use Pachyderm \n",
    "OpenShift provides a local hostname and this hostname is automatically created with a specific format. \n",
    "`%ServiceName%.%Project%.svc.cluster.local`\n",
    "In this case, `pachd` is the service name and `opendatahub` is the project name. So you can use `pachd.opendatahub.svc.cluster.local` with port number 30650."
   ]
  },
  {
   "cell_type": "code",
   "execution_count": null,
   "metadata": {},
   "outputs": [],
   "source": [
    "# Create a new context with pachd_address < pachd.%Project_Name%.svc.cluster.local:%Port >\n",
    "!echo '{\"pachd_address\":\"pachd.opendatahub.svc.cluster.local:30650\"}' | pachctl config set context pachyderm\n",
    "\n",
    "# Switch the pachd context to a new context\n",
    "!pachctl config set active-context pachyderm\n",
    "\n",
    "# Verify active context is the new context\n",
    "!pachctl config get active-context\n",
    "\n",
    "# Check pachctl/pachd version\n",
    "!pachctl version"
   ]
  },
  {
   "cell_type": "markdown",
   "id": "bd3d9447",
   "metadata": {},
   "source": [
    "## Create a source repository \"images\"\n",
    "This `images` is the source repository in pachyderm. Whenever a new `png` image is pushed into this `images` repository, then pipeline will start to do the job with original image and push it to a new repository `edges`"
   ]
  },
  {
   "cell_type": "code",
   "execution_count": null,
   "metadata": {},
   "outputs": [],
   "source": [
    "# Create repo `images`\n",
    "!pachctl create repo images\n",
    "\n",
    "# Check the images repo\n",
    "!pachctl list repo"
   ]
  },
  {
   "cell_type": "markdown",
   "id": "3618f313",
   "metadata": {},
   "source": [
    "## Push an image to source repo and check the commits"
   ]
  },
  {
   "cell_type": "code",
   "execution_count": null,
   "metadata": {},
   "outputs": [],
   "source": [
    "# Put a file to the repo `images`\n",
    "!pachctl put file images@master:liberty.png -f https://raw.githubusercontent.com/Jooho/pachyderm-operator-manifests/master/notebooks/liberty.png\n",
    "\n",
    "# Check the repo used storage\n",
    "!pachctl list repo\n",
    "\n",
    "# List up commits on the repo `images`\n",
    "!pachctl list commit images"
   ]
  },
  {
   "cell_type": "markdown",
   "id": "ef514406",
   "metadata": {},
   "source": [
    "## Display the image that is pushed into images repo"
   ]
  },
  {
   "cell_type": "code",
   "execution_count": null,
   "metadata": {},
   "outputs": [],
   "source": [
    "# See the original image\n",
    "!pachctl get file images@master:liberty.png -o original_liberty.png\n",
    "from IPython.display import Image, display\n",
    "Image(filename='original_liberty.png') "
   ]
  },
  {
   "cell_type": "markdown",
   "id": "732d3455",
   "metadata": {},
   "source": [
    "## Create a Edge Pipeline \n",
    "You create a `edges` pipeline that does edge detection with an image that is pushed into source repo `images`.\n",
    "When you create the edges pipeline, you have to check the pipeline pod is Ready in the project. The pod will do `edge detection` so before the pod is Ready, you can not find the processed image in edges repository.\n",
    "\n",
    "If you are wondering the source, please refer [this](https://docs.pachyderm.com/latest/getting_started/beginner_tutorial/#create-a-pipeline)"
   ]
  },
  {
   "cell_type": "code",
   "execution_count": null,
   "metadata": {},
   "outputs": [],
   "source": [
    "# Create a pipeline\n",
    "!pachctl create pipeline -f https://raw.githubusercontent.com/pachyderm/pachyderm/master/examples/opencv/edges.pipeline.json\n",
    "\n",
    "# Check pipeline created jobs\n",
    "!pachctl list job"
   ]
  },
  {
   "cell_type": "markdown",
   "id": "e62d16de",
   "metadata": {},
   "source": [
    "## Get the proceed image from edges repository\n",
    "After the edge pipeline pod is Ready, the images in the source repo `images` are being processed. Then they are pushed into `edges` repo.\n",
    "You can download the processed image from `edges`\n",
    "However, keep in mind before you execute the following command, you have to make sure the pipeline pod is Ready.\n",
    "`oc get pod -l pipelineName=edges -n opendatahub`"
   ]
  },
  {
   "cell_type": "code",
   "execution_count": null,
   "metadata": {},
   "outputs": [],
   "source": [
    "# Check if a new repo `edges` that has the changed image after pipeline creatd\n",
    "!pachctl list repo\n",
    "\n",
    "#See the changed image\n",
    "!pachctl get file edges@master:liberty.png -o edge_liberty.png\n",
    "\n",
    "Image(filename='edge_liberty.png')   "
   ]
  },
  {
   "cell_type": "markdown",
   "id": "d49c060b",
   "metadata": {},
   "source": [
    "## Push images to test pipeline.\n",
    "Now, your pipeline, repositories are configured. Which means that the pipeline will start to process whenever any images are pushed into `images` repository. So let's push any test images into `images` repository."
   ]
  },
  {
   "cell_type": "code",
   "execution_count": null,
   "metadata": {},
   "outputs": [],
   "source": [
    "# Try more images. Put 2 images into repo `images\n",
    "!pachctl put file images@master:AT-AT.png -f https://raw.githubusercontent.com/Jooho/pachyderm-operator-manifests/master/notebooks/AT-AT.png\n",
    "!pachctl put file images@master:kitten.png -f https://raw.githubusercontent.com/Jooho/pachyderm-operator-manifests/master/notebooks/kitten.png\n",
    "\n",
    "# Check new jobs deployed\n",
    "!pachctl list job"
   ]
  },
  {
   "cell_type": "markdown",
   "id": "7efd52a9",
   "metadata": {},
   "source": [
    "## Verify if the images are pushed well into source repository."
   ]
  },
  {
   "cell_type": "code",
   "execution_count": null,
   "metadata": {},
   "outputs": [],
   "source": [
    "# See original images\n",
    "!pachctl get file images@master:AT-AT.png -o original_at_at.png\n",
    "!pachctl get file images@master:kitten.png  -o original_kitten.png\n",
    "\n",
    "listOfImageNames = ['original_at_at.png',\n",
    "                    'original_kitten.png']\n",
    "\n",
    "for imageName in listOfImageNames:\n",
    "    display(Image(filename=imageName))"
   ]
  },
  {
   "cell_type": "markdown",
   "id": "934c7f69",
   "metadata": {},
   "source": [
    "## Check processed images from target repository."
   ]
  },
  {
   "cell_type": "code",
   "execution_count": null,
   "metadata": {},
   "outputs": [],
   "source": [
    "# See edge images\n",
    "!pachctl get file edges@master:AT-AT.png -o edge_at_at.png\n",
    "!pachctl get file edges@master:kitten.png  -o edge_kitten.png\n",
    "\n",
    "listOfImageNames = ['edge_at_at.png',\n",
    "                    'edge_kitten.png']\n",
    "\n",
    "for imageName in listOfImageNames:\n",
    "    display(Image(filename=imageName))\n"
   ]
  }
 ],
 "metadata": {
  "kernelspec": {
   "display_name": "Python 3",
   "language": "python",
   "name": "python3"
  },
  "language_info": {
   "codemirror_mode": {
    "name": "ipython",
    "version": 3
   },
   "file_extension": ".py",
   "mimetype": "text/x-python",
   "name": "python",
   "nbconvert_exporter": "python",
   "pygments_lexer": "ipython3",
   "version": "3.9.5"
  }
 },
 "nbformat": 4,
 "nbformat_minor": 5
}
